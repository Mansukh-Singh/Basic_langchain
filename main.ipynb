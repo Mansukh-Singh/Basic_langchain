{
 "cells": [
  {
   "cell_type": "code",
   "execution_count": 1,
   "metadata": {},
   "outputs": [],
   "source": [
    "import os\n",
    "import langchain\n",
    "from dotenv import load_dotenv"
   ]
  },
  {
   "cell_type": "code",
   "execution_count": 2,
   "metadata": {},
   "outputs": [],
   "source": [
    "load_dotenv()\n",
    "os.environ['OPENAI_API_KEY'] = os.getenv('OPENAI_API_KEY')"
   ]
  },
  {
   "cell_type": "code",
   "execution_count": 6,
   "metadata": {},
   "outputs": [
    {
     "name": "stdout",
     "output_type": "stream",
     "text": [
      "\n",
      "\n",
      "The father of Punjabi music industry is generally regarded as Bhai Gurmeet Singh Shaant, who was the first to introduce modern musical instruments into Punjabi music.\n"
     ]
    }
   ],
   "source": [
    "from langchain.llms import OpenAI\n",
    "\n",
    "llm = OpenAI(temperature = 0.6)\n",
    "name = llm(\"who is the father of punjabi music industry?\")\n",
    "print(name)"
   ]
  },
  {
   "cell_type": "code",
   "execution_count": 22,
   "metadata": {},
   "outputs": [],
   "source": [
    "from langchain.prompts import PromptTemplate\n",
    "from langchain.chains import LLMChain\n",
    "\n",
    "prompt_template1 = PromptTemplate(\n",
    "    input_variables = ['text'],\n",
    "    template = \"who is the father of {text} music industry?\"\n",
    ")\n",
    "\n",
    "chain1 = LLMChain(llm = llm, prompt=prompt_template1)"
   ]
  },
  {
   "cell_type": "code",
   "execution_count": 24,
   "metadata": {},
   "outputs": [],
   "source": [
    "prompt_template2 = PromptTemplate(\n",
    "    input_variables = ['artist_name'],\n",
    "    template = \"who is the date of birth of {artist_name}?\"\n",
    ")\n",
    "\n",
    "chain2 = LLMChain(llm = llm ,prompt=prompt_template2)\n"
   ]
  },
  {
   "cell_type": "code",
   "execution_count": 25,
   "metadata": {},
   "outputs": [
    {
     "name": "stdout",
     "output_type": "stream",
     "text": [
      "\n",
      "\n",
      "Kuldeep Manak was born on 18 April 1952 in Jandiala Guru, Amritsar district, Punjab, India.\n"
     ]
    }
   ],
   "source": [
    "from langchain.chains import LLMChain,SimpleSequentialChain\n",
    "\n",
    "chain = SimpleSequentialChain(chains = [chain1,chain2])\n",
    "response = chain.run(\"pollywood\")\n",
    "print(response)"
   ]
  },
  {
   "cell_type": "code",
   "execution_count": 29,
   "metadata": {},
   "outputs": [
    {
     "data": {
      "text/plain": [
       "{'text': 'pollywood',\n",
       " 'artist_name': '\\n\\nThe father of Pollywood music industry is late Kuldeep Manak.',\n",
       " 'dob': '\\n\\nKuldeep Manak was born on 8 December 1950.'}"
      ]
     },
     "execution_count": 29,
     "metadata": {},
     "output_type": "execute_result"
    }
   ],
   "source": [
    "from langchain.chains import SequentialChain\n",
    "\n",
    "prompt_template1 = PromptTemplate(\n",
    "    input_variables = ['text'],\n",
    "    template = \"who is the father of {text} music industry?\"\n",
    ")\n",
    "\n",
    "chain1 = LLMChain(llm = llm, prompt=prompt_template1, output_key=\"artist_name\")\n",
    "\n",
    "prompt_template2 = PromptTemplate(\n",
    "    input_variables = ['artist_name'],\n",
    "    template = \"who is the date of birth of {artist_name}?\"\n",
    ")\n",
    "\n",
    "chain2 = LLMChain(llm = llm ,prompt=prompt_template2, output_key=\"dob\")\n",
    "\n",
    "chain = SequentialChain(\n",
    "    chains = [chain1,chain2],\n",
    "    input_variables = ['text'],\n",
    "    output_variables = ['artist_name','dob']\n",
    ")\n",
    "\n",
    "chain({'text':'pollywood'})"
   ]
  },
  {
   "cell_type": "code",
   "execution_count": null,
   "metadata": {},
   "outputs": [],
   "source": []
  }
 ],
 "metadata": {
  "kernelspec": {
   "display_name": "Python 3.11.5 64-bit",
   "language": "python",
   "name": "python3"
  },
  "language_info": {
   "codemirror_mode": {
    "name": "ipython",
    "version": 3
   },
   "file_extension": ".py",
   "mimetype": "text/x-python",
   "name": "python",
   "nbconvert_exporter": "python",
   "pygments_lexer": "ipython3",
   "version": "3.11.5"
  },
  "orig_nbformat": 4,
  "vscode": {
   "interpreter": {
    "hash": "5238573367df39f7286bb46f9ff5f08f63a01a80960060ce41e3c79b190280fa"
   }
  }
 },
 "nbformat": 4,
 "nbformat_minor": 2
}
