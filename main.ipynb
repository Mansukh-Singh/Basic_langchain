{
 "cells": [
  {
   "cell_type": "code",
   "execution_count": 1,
   "metadata": {},
   "outputs": [],
   "source": [
    "import os\n",
    "import langchain\n",
    "from dotenv import load_dotenv"
   ]
  },
  {
   "cell_type": "code",
   "execution_count": 7,
   "metadata": {},
   "outputs": [],
   "source": [
    "load_dotenv()\n",
    "os.environ['OPENAI_API_KEY'] = os.getenv('OPENAI_API_KEY')"
   ]
  },
  {
   "cell_type": "code",
   "execution_count": 3,
   "metadata": {},
   "outputs": [
    {
     "name": "stdout",
     "output_type": "stream",
     "text": [
      "\n",
      "\n",
      "The father of Punjabi music industry is the legendary singer-songwriter, actor, and music director, Kuldeep Manak.\n"
     ]
    }
   ],
   "source": [
    "from langchain.llms.openai import OpenAI\n",
    "\n",
    "llm = OpenAI(temperature = 0.6)\n",
    "name = llm(\"who is the father of punjabi music industry?\")\n",
    "print(name)"
   ]
  },
  {
   "cell_type": "code",
   "execution_count": 19,
   "metadata": {},
   "outputs": [],
   "source": [
    "from langchain.prompts import PromptTemplate\n",
    "from langchain.chains import LLMChain\n",
    "\n",
    "prompt_template1 = PromptTemplate(\n",
    "    input_variables = ['text'],\n",
    "    template = \"who is the father of {text} music industry?\"\n",
    ")\n",
    "\n",
    "chain1 = LLMChain(llm = llm, prompt=prompt_template1)"
   ]
  },
  {
   "cell_type": "code",
   "execution_count": 24,
   "metadata": {},
   "outputs": [],
   "source": [
    "prompt_template2 = PromptTemplate(\n",
    "    input_variables = ['artist_name'],\n",
    "    template = \"who is the date of birth of {artist_name}?\"\n",
    ")\n",
    "\n",
    "chain2 = LLMChain(llm = llm ,prompt=prompt_template2)\n"
   ]
  },
  {
   "cell_type": "code",
   "execution_count": 25,
   "metadata": {},
   "outputs": [
    {
     "name": "stdout",
     "output_type": "stream",
     "text": [
      "\n",
      "\n",
      "Kuldeep Manak was born on 18 April 1952 in Jandiala Guru, Amritsar district, Punjab, India.\n"
     ]
    }
   ],
   "source": [
    "from langchain.chains import LLMChain,SimpleSequentialChain\n",
    "\n",
    "chain = SimpleSequentialChain(chains = [chain1,chain2])\n",
    "response = chain.run(\"pollywood\")\n",
    "print(response)"
   ]
  },
  {
   "cell_type": "code",
   "execution_count": 20,
   "metadata": {},
   "outputs": [
    {
     "data": {
      "text/plain": [
       "{'text': 'pollywood',\n",
       " 'artist_name': '\\n\\nThe father of Punjabi music industry is often credited to the late Kuldeep Manak.',\n",
       " 'dob': '\\n\\nKuldeep Manak was born on August 5, 1952.'}"
      ]
     },
     "execution_count": 20,
     "metadata": {},
     "output_type": "execute_result"
    }
   ],
   "source": [
    "from langchain.chains import SequentialChain\n",
    "\n",
    "prompt_template1 = PromptTemplate(\n",
    "    input_variables = ['text'],\n",
    "    template = \"who is the father of {text} music industry?\"\n",
    ")\n",
    "\n",
    "chain1 = LLMChain(llm = llm, prompt=prompt_template1, output_key=\"artist_name\")\n",
    "\n",
    "prompt_template2 = PromptTemplate(\n",
    "    input_variables = ['artist_name'],\n",
    "    template = \"who is the date of birth of {artist_name}?\"\n",
    ")\n",
    "\n",
    "chain2 = LLMChain(llm = llm ,prompt=prompt_template2, output_key=\"dob\")\n",
    "\n",
    "chain = SequentialChain(\n",
    "    chains = [chain1,chain2],\n",
    "    input_variables = ['text'],\n",
    "    output_variables = ['artist_name','dob']\n",
    ")\n",
    "\n",
    "chain({'text':'pollywood'})"
   ]
  },
  {
   "cell_type": "code",
   "execution_count": 11,
   "metadata": {},
   "outputs": [
    {
     "data": {
      "text/plain": [
       "'Elon Musk will be 52 years old in 2023.'"
      ]
     },
     "execution_count": 11,
     "metadata": {},
     "output_type": "execute_result"
    }
   ],
   "source": [
    "from langchain.agents import AgentType, initialize_agent, load_tools\n",
    "from langchain.llms.openai import OpenAI\n",
    "import wikipedia\n",
    "\n",
    "tools = load_tools([\"wikipedia\",\"llm-math\"], llm=llm)\n",
    "\n",
    "agent = initialize_agent(\n",
    "    tools,\n",
    "    llm,\n",
    "    agent = AgentType.ZERO_SHOT_REACT_DESCRIPTION,\n",
    "#    verbose = True\n",
    ")\n",
    "\n",
    "agent.run('what is the age of elon musk in 2023?')"
   ]
  },
  {
   "cell_type": "code",
   "execution_count": 8,
   "metadata": {},
   "outputs": [],
   "source": [
    "os.environ['SERPAPI_API_KEY'] = os.getenv('SERPAPI_API_KEY')"
   ]
  },
  {
   "cell_type": "code",
   "execution_count": 17,
   "metadata": {},
   "outputs": [
    {
     "name": "stdout",
     "output_type": "stream",
     "text": [
      "\n",
      "\n",
      "\u001b[1m> Entering new AgentExecutor chain...\u001b[0m\n",
      "\u001b[32;1m\u001b[1;3m Elon Musk's age is likely a simple calculation\n",
      "Action: Calculator\n",
      "Action Input: 2023 + 5\u001b[0m\n",
      "Observation: \u001b[33;1m\u001b[1;3mAnswer: 2028\u001b[0m\n",
      "Thought:\u001b[32;1m\u001b[1;3m I now know the final answer\n",
      "Final Answer: Elon Musk will be 59 years old in 2028.\u001b[0m\n",
      "\n",
      "\u001b[1m> Finished chain.\u001b[0m\n"
     ]
    },
    {
     "data": {
      "text/plain": [
       "'Elon Musk will be 59 years old in 2028.'"
      ]
     },
     "execution_count": 17,
     "metadata": {},
     "output_type": "execute_result"
    }
   ],
   "source": [
    "from langchain.agents import AgentType, initialize_agent, load_tools\n",
    "tools = load_tools([\"serpapi\",\"llm-math\"], llm=llm)\n",
    "agent = initialize_agent(\n",
    "    tools,\n",
    "    llm,\n",
    "    agent = AgentType.ZERO_SHOT_REACT_DESCRIPTION,\n",
    "    verbose = True   \n",
    ")\n",
    "\n",
    "agent.run(\"What will be the age of elon musk after 5 years from 2023?\")"
   ]
  },
  {
   "cell_type": "code",
   "execution_count": 21,
   "metadata": {},
   "outputs": [
    {
     "data": {
      "text/plain": [
       "'\\n\\nThe father of Punjabi music industry, also known as Pollywood, is the legendary singer-songwriter Gurdas Maan.'"
      ]
     },
     "execution_count": 21,
     "metadata": {},
     "output_type": "execute_result"
    }
   ],
   "source": [
    "chain = LLMChain(llm=llm, prompt=prompt_template1)\n",
    "name = chain.run(\"pollywood\")\n",
    "name"
   ]
  },
  {
   "cell_type": "code",
   "execution_count": 22,
   "metadata": {},
   "outputs": [
    {
     "name": "stdout",
     "output_type": "stream",
     "text": [
      "\n",
      "\n",
      "Ustad Kuldeep Manak is often considered the father of Punjabi music, or \"Pollywood.\"\n"
     ]
    }
   ],
   "source": [
    "from langchain.memory import ConversationBufferMemory\n",
    "memory = ConversationBufferMemory()\n",
    "\n",
    "chain = LLMChain(llm=llm, prompt=prompt_template1,memory=memory)\n",
    "\n",
    "name = chain.run(\"pollywood\")\n",
    "print(name)"
   ]
  },
  {
   "cell_type": "code",
   "execution_count": 23,
   "metadata": {},
   "outputs": [],
   "source": [
    "name = chain.run(\"bollywood\")"
   ]
  },
  {
   "cell_type": "code",
   "execution_count": 24,
   "metadata": {},
   "outputs": [
    {
     "name": "stdout",
     "output_type": "stream",
     "text": [
      "chat_memory=ChatMessageHistory(messages=[HumanMessage(content='pollywood'), AIMessage(content='\\n\\nUstad Kuldeep Manak is often considered the father of Punjabi music, or \"Pollywood.\"'), HumanMessage(content='bollywood'), AIMessage(content='\\n\\nThe father of Bollywood music industry is composer Naushad Ali.')])\n"
     ]
    }
   ],
   "source": [
    "print(chain.memory)"
   ]
  },
  {
   "cell_type": "code",
   "execution_count": 25,
   "metadata": {},
   "outputs": [
    {
     "name": "stdout",
     "output_type": "stream",
     "text": [
      "Human: pollywood\n",
      "AI: \n",
      "\n",
      "Ustad Kuldeep Manak is often considered the father of Punjabi music, or \"Pollywood.\"\n",
      "Human: bollywood\n",
      "AI: \n",
      "\n",
      "The father of Bollywood music industry is composer Naushad Ali.\n"
     ]
    }
   ],
   "source": [
    "print(chain.memory.buffer)"
   ]
  },
  {
   "cell_type": "code",
   "execution_count": 30,
   "metadata": {},
   "outputs": [],
   "source": [
    "from langchain.chains import ConversationChain\n",
    "from langchain.memory import ConversationBufferWindowMemory\n",
    "\n",
    "memory = ConversationBufferWindowMemory(k=2)\n",
    "\n",
    "chain3 = ConversationChain(\n",
    "    llm = OpenAI(temperature=0.6),\n",
    "    memory = memory\n",
    ")"
   ]
  },
  {
   "cell_type": "code",
   "execution_count": 31,
   "metadata": {},
   "outputs": [
    {
     "data": {
      "text/plain": [
       "' The answer is 10.'"
      ]
     },
     "execution_count": 31,
     "metadata": {},
     "output_type": "execute_result"
    }
   ],
   "source": [
    "chain3.run(\"what is 5+5?\")"
   ]
  },
  {
   "cell_type": "code",
   "execution_count": 28,
   "metadata": {},
   "outputs": [
    {
     "data": {
      "text/plain": [
       "PromptTemplate(input_variables=['history', 'input'], template='The following is a friendly conversation between a human and an AI. The AI is talkative and provides lots of specific details from its context. If the AI does not know the answer to a question, it truthfully says it does not know.\\n\\nCurrent conversation:\\n{history}\\nHuman: {input}\\nAI:')"
      ]
     },
     "execution_count": 28,
     "metadata": {},
     "output_type": "execute_result"
    }
   ],
   "source": [
    "chain3.prompt"
   ]
  },
  {
   "cell_type": "code",
   "execution_count": 32,
   "metadata": {},
   "outputs": [
    {
     "data": {
      "text/plain": [
       "ConversationBufferWindowMemory(chat_memory=ChatMessageHistory(messages=[HumanMessage(content='what is 5+5?'), AIMessage(content=' The answer is 10.')]), k=2)"
      ]
     },
     "execution_count": 32,
     "metadata": {},
     "output_type": "execute_result"
    }
   ],
   "source": [
    "chain3.memory"
   ]
  }
 ],
 "metadata": {
  "kernelspec": {
   "display_name": "Python 3.11.5 ('pe': venv)",
   "language": "python",
   "name": "python3"
  },
  "language_info": {
   "codemirror_mode": {
    "name": "ipython",
    "version": 3
   },
   "file_extension": ".py",
   "mimetype": "text/x-python",
   "name": "python",
   "nbconvert_exporter": "python",
   "pygments_lexer": "ipython3",
   "version": "3.11.5"
  },
  "orig_nbformat": 4,
  "vscode": {
   "interpreter": {
    "hash": "d9f2a56e8aeaf0eb4dd46baf9a1199674b66a618a7d7bf9d26cae7e8f4acac39"
   }
  }
 },
 "nbformat": 4,
 "nbformat_minor": 2
}
